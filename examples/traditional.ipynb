{
 "cells": [
  {
   "cell_type": "markdown",
   "metadata": {},
   "source": [
    "### Example Usage: Build Scaling Relation with the Traditional Method\n",
    "TODO: format of this is very messy"
   ]
  },
  {
   "cell_type": "markdown",
   "metadata": {},
   "source": [
    "#### Workflow\n",
    "\n",
    "##### Stage One: Preparation\n",
    "\n",
    "1.1 Prepare Adsorption Energy Data\n",
    "\n",
    "1.2 Decide (Two) Descriptors and Group Members\n",
    "\n",
    "1.3 Provide Reaction and Free-Species Energies\n",
    "\n",
    "##### Stage Two: Build\n",
    "\n",
    "2. Run the Relation Builder (and Check Metrics)\n",
    "\n",
    "##### Stage Three: Analysis (Visualization)\n",
    "\n",
    "3. Visualize Results with Volcano Plots and More"
   ]
  },
  {
   "cell_type": "markdown",
   "metadata": {},
   "source": [
    "## Stage One: Preparation\n"
   ]
  },
  {
   "cell_type": "markdown",
   "metadata": {},
   "source": [
    "### 1.1 Adsorption Energy\n",
    "\n",
    "Expect adsorption energy data as `pandas.DataFrame`,\n",
    "and you could easily generate one from a local `csv` file,\n",
    "where the row header should be adsorbate names, \n",
    "and the column header being sample names, like the following:\n",
    "```sql\n",
    "+-----------+------+------+-----+-------+------+------+\n",
    "|           | *CO2 |*COOH | ... |*OCH3  | *O   | *OH  |\n",
    "+-----------+------+------+-----+-------+------+------+\n",
    "| Cu@g-C3N4 | 0.89 | 4.37 | ... | 3.98  | -1.73| 0.17 |\n",
    "| Ni@C2N    |-4.57 |-4.95 | ... |-0.93  | -2.81|-3.21 |\n",
    "| ...       | ...  | ...  | ... | ...   | ...  | ...  |\n",
    "| Pt@SiO2   |-2.36 | 3.69 | ... | 3.12  | 0.29 | 4.84 |\n",
    "| Au@Al2O3  | 2.15 |-2.35 | ... | 1.36  | 1.07 | 4.56 |\n",
    "+-----------+------+------+-----+-------+------+------+\n",
    "\n",
    "```"
   ]
  },
  {
   "cell_type": "code",
   "execution_count": 6,
   "metadata": {},
   "outputs": [],
   "source": [
    "# TODO: need to fix this\n",
    "import sys\n",
    "sys.path.append('..')\n",
    "\n",
    "# Imports\n",
    "from scaling.data import Eads, Reaction\n",
    "from scaling.relation import Builder, EadsRelation, DeltaERelation"
   ]
  },
  {
   "cell_type": "code",
   "execution_count": 2,
   "metadata": {},
   "outputs": [],
   "source": [
    "# Initialize Eads from csv file\n",
    "eads = Eads.from_csv(\"g-C3N4.csv\")"
   ]
  },
  {
   "cell_type": "markdown",
   "metadata": {},
   "source": [
    "### 1.2: Decide Descriptors and Group Members\n",
    "\n",
    "As of the traditional method, you would need to nominate\n",
    "two descriptors and their own group members, for example\n",
    "the following example for CO<sub>2</sub> to CH<sub>4</sub> reduction reaction:\n",
    "\n",
    "```python\n",
    "groups = {\n",
    "    \"*CO\": [\"*COOH\", \"*CHO\", \"*CH2O\"],  # C-centered group\n",
    "    \"*OH\": [\"*OCH3\", \"*O\"]              # O-Centered group\n",
    "}\n",
    "```"
   ]
  },
  {
   "cell_type": "code",
   "execution_count": 3,
   "metadata": {},
   "outputs": [],
   "source": [
    "# Set \"groups\"\n",
    "eads.groups = {\n",
    "    \"*CO\": [\"*COOH\", \"*CHO\", \"*CH2O\"],  # C-centered group\n",
    "    \"*OH\": [\"*OCH3\", \"*O\"]              # O-Centered group\n",
    "}"
   ]
  },
  {
   "cell_type": "markdown",
   "metadata": {},
   "source": [
    "### 1.3: Define Reaction and Free-Species Energies\n",
    "\n",
    "To convert an adsorption energy scaling Relation (`EadsRelation`) to a\n",
    "reaction energy Relation (`DeltaERelation`), the reaction pathway\n",
    "and species energies are necessary.\n",
    "\n",
    "The `Reaction` class provides a `from_str` method to generate a Reaction\n",
    "from a string, which should take the following form:\n",
    "```\n",
    "*CO2 + H+ + e- -> *COOH\n",
    "*COOH + H+ + e- -> *CO + H2O_l\n",
    "```\n",
    "\n",
    "Add an energy dict is also needed:\n",
    "```\n",
    "energy_dict = {\n",
    "    \"CO2\": (X, Y),\n",
    "    \"COOH\": (X, Y),\n",
    "    \"CO\": (X, Y),\n",
    "    \"H+\": (X, Y),\n",
    "    \"e-\": (0, 0),\n",
    "    \"H2O_l\": (X, Y),\n",
    "}\n",
    "```\n"
   ]
  },
  {
   "cell_type": "code",
   "execution_count": 4,
   "metadata": {},
   "outputs": [
    {
     "name": "stderr",
     "output_type": "stream",
     "text": [
      "/Users/yang/developer/scaling/examples/../scaling/data/species.py:84: UserWarning: Non-negative energy found.\n",
      "  warnings.warn(\"Non-negative energy found.\")\n"
     ]
    }
   ],
   "source": [
    "reaction_str = \"\"\"\n",
    "*CO2 + H++e- -> *COOH\n",
    "*COOH + H++e- -> *CO + H2O_l\n",
    "\"\"\"\n",
    "\n",
    "# TODO: use proper energy and correction\n",
    "energy_dict = {\n",
    "    \"CO2\": (0, 0),\n",
    "    \"COOH\": (0, 0),\n",
    "    \"CO\": (0, 0),\n",
    "    \"H++e-\": (0, 0),\n",
    "    \"H2O_l\": (0, 0),\n",
    "}\n",
    "\n",
    "reaction = Reaction.from_str(reaction_str, energy_dict)"
   ]
  },
  {
   "cell_type": "markdown",
   "metadata": {},
   "source": [
    "## Stage Two: Build"
   ]
  },
  {
   "cell_type": "code",
   "execution_count": 7,
   "metadata": {},
   "outputs": [
    {
     "ename": "KeyError",
     "evalue": "'*CO'",
     "output_type": "error",
     "traceback": [
      "\u001b[0;31m---------------------------------------------------------------------------\u001b[0m",
      "\u001b[0;31mKeyError\u001b[0m                                  Traceback (most recent call last)",
      "File \u001b[0;32m~/developer/scaling/venv/lib/python3.12/site-packages/pandas/core/indexes/base.py:3805\u001b[0m, in \u001b[0;36mIndex.get_loc\u001b[0;34m(self, key)\u001b[0m\n\u001b[1;32m   3804\u001b[0m \u001b[38;5;28;01mtry\u001b[39;00m:\n\u001b[0;32m-> 3805\u001b[0m     \u001b[38;5;28;01mreturn\u001b[39;00m \u001b[38;5;28;43mself\u001b[39;49m\u001b[38;5;241;43m.\u001b[39;49m\u001b[43m_engine\u001b[49m\u001b[38;5;241;43m.\u001b[39;49m\u001b[43mget_loc\u001b[49m\u001b[43m(\u001b[49m\u001b[43mcasted_key\u001b[49m\u001b[43m)\u001b[49m\n\u001b[1;32m   3806\u001b[0m \u001b[38;5;28;01mexcept\u001b[39;00m \u001b[38;5;167;01mKeyError\u001b[39;00m \u001b[38;5;28;01mas\u001b[39;00m err:\n",
      "File \u001b[0;32mindex.pyx:167\u001b[0m, in \u001b[0;36mpandas._libs.index.IndexEngine.get_loc\u001b[0;34m()\u001b[0m\n",
      "File \u001b[0;32mindex.pyx:196\u001b[0m, in \u001b[0;36mpandas._libs.index.IndexEngine.get_loc\u001b[0;34m()\u001b[0m\n",
      "File \u001b[0;32mpandas/_libs/hashtable_class_helper.pxi:7081\u001b[0m, in \u001b[0;36mpandas._libs.hashtable.PyObjectHashTable.get_item\u001b[0;34m()\u001b[0m\n",
      "File \u001b[0;32mpandas/_libs/hashtable_class_helper.pxi:7089\u001b[0m, in \u001b[0;36mpandas._libs.hashtable.PyObjectHashTable.get_item\u001b[0;34m()\u001b[0m\n",
      "\u001b[0;31mKeyError\u001b[0m: '*CO'",
      "\nThe above exception was the direct cause of the following exception:\n",
      "\u001b[0;31mKeyError\u001b[0m                                  Traceback (most recent call last)",
      "Cell \u001b[0;32mIn[7], line 5\u001b[0m\n\u001b[1;32m      1\u001b[0m \u001b[38;5;66;03m### 2.1 Build adsorption energy scaling relation (EadsRelation)\u001b[39;00m\n\u001b[1;32m      3\u001b[0m builder \u001b[38;5;241m=\u001b[39m Builder(data\u001b[38;5;241m=\u001b[39meads)\n\u001b[0;32m----> 5\u001b[0m eadsrelation \u001b[38;5;241m=\u001b[39m \u001b[43mbuilder\u001b[49m\u001b[38;5;241;43m.\u001b[39;49m\u001b[43mbuild_traditional\u001b[49m\u001b[43m(\u001b[49m\u001b[43meads\u001b[49m\u001b[38;5;241;43m.\u001b[39;49m\u001b[43mgroups\u001b[49m\u001b[43m)\u001b[49m\n",
      "File \u001b[0;32m~/developer/scaling/examples/../scaling/relation/builder.py:211\u001b[0m, in \u001b[0;36mBuilder.build_traditional\u001b[0;34m(self, groups)\u001b[0m\n\u001b[1;32m    207\u001b[0m ratios_dict[descriptor] \u001b[38;5;241m=\u001b[39m ratios\n\u001b[1;32m    209\u001b[0m \u001b[38;5;28;01mfor\u001b[39;00m spec_name \u001b[38;5;129;01min\u001b[39;00m species:\n\u001b[1;32m    210\u001b[0m     \u001b[38;5;66;03m# Build for each species\u001b[39;00m\n\u001b[0;32m--> 211\u001b[0m     coefs, intercept, metrics \u001b[38;5;241m=\u001b[39m \u001b[38;5;28;43mself\u001b[39;49m\u001b[38;5;241;43m.\u001b[39;49m\u001b[43m_builder\u001b[49m\u001b[43m(\u001b[49m\n\u001b[1;32m    212\u001b[0m \u001b[43m        \u001b[49m\u001b[43mspec_name\u001b[49m\u001b[38;5;241;43m=\u001b[39;49m\u001b[43mspec_name\u001b[49m\u001b[43m,\u001b[49m\n\u001b[1;32m    213\u001b[0m \u001b[43m        \u001b[49m\u001b[43mratios\u001b[49m\u001b[38;5;241;43m=\u001b[39;49m\u001b[43mratios\u001b[49m\u001b[43m,\u001b[49m\n\u001b[1;32m    214\u001b[0m \u001b[43m    \u001b[49m\u001b[43m)\u001b[49m\n\u001b[1;32m    216\u001b[0m     \u001b[38;5;66;03m# Rebuild coefs\u001b[39;00m\n\u001b[1;32m    217\u001b[0m     \u001b[38;5;66;03m# As traditional method use only single descriptor\u001b[39;00m\n\u001b[1;32m    218\u001b[0m     \u001b[38;5;66;03m# Therefore only the descriptor correspond to its\u001b[39;00m\n\u001b[1;32m    219\u001b[0m     \u001b[38;5;66;03m# group would be non-zero\u001b[39;00m\n\u001b[1;32m    220\u001b[0m     _coefs \u001b[38;5;241m=\u001b[39m [\n\u001b[1;32m    221\u001b[0m         coefs[\u001b[38;5;241m0\u001b[39m] \u001b[38;5;28;01mif\u001b[39;00m i \u001b[38;5;241m==\u001b[39m idx \u001b[38;5;28;01melse\u001b[39;00m \u001b[38;5;241m0.0\u001b[39m \u001b[38;5;28;01mfor\u001b[39;00m i \u001b[38;5;129;01min\u001b[39;00m \u001b[38;5;28mrange\u001b[39m(\u001b[38;5;28mlen\u001b[39m(groups))\n\u001b[1;32m    222\u001b[0m     ]\n",
      "File \u001b[0;32m~/developer/scaling/examples/../scaling/relation/builder.py:154\u001b[0m, in \u001b[0;36mBuilder._builder\u001b[0;34m(self, spec_name, ratios)\u001b[0m\n\u001b[1;32m    106\u001b[0m \u001b[38;5;250m\u001b[39m\u001b[38;5;124;03m\"\"\"Core worker for building scaling relations.\u001b[39;00m\n\u001b[1;32m    107\u001b[0m \n\u001b[1;32m    108\u001b[0m \u001b[38;5;124;03mParameters:\u001b[39;00m\n\u001b[0;32m   (...)\u001b[0m\n\u001b[1;32m    150\u001b[0m \u001b[38;5;124;03m        target = slope * comp_des + intercept\u001b[39;00m\n\u001b[1;32m    151\u001b[0m \u001b[38;5;124;03m\"\"\"\u001b[39;00m\n\u001b[1;32m    153\u001b[0m \u001b[38;5;66;03m# Build composite descriptor\u001b[39;00m\n\u001b[0;32m--> 154\u001b[0m composite_descriptor \u001b[38;5;241m=\u001b[39m \u001b[38;5;28;43mself\u001b[39;49m\u001b[38;5;241;43m.\u001b[39;49m\u001b[43m_build_composite_descriptor\u001b[49m\u001b[43m(\u001b[49m\u001b[43mratios\u001b[49m\u001b[43m)\u001b[49m\n\u001b[1;32m    156\u001b[0m \u001b[38;5;66;03m# Perform linear regression\u001b[39;00m\n\u001b[1;32m    157\u001b[0m _comp_des \u001b[38;5;241m=\u001b[39m composite_descriptor\u001b[38;5;241m.\u001b[39mreshape(\u001b[38;5;241m-\u001b[39m\u001b[38;5;241m1\u001b[39m, \u001b[38;5;241m1\u001b[39m)\n",
      "File \u001b[0;32m~/developer/scaling/examples/../scaling/relation/builder.py:91\u001b[0m, in \u001b[0;36mBuilder._build_composite_descriptor\u001b[0;34m(self, spec_ratios)\u001b[0m\n\u001b[1;32m     86\u001b[0m     \u001b[38;5;28;01mraise\u001b[39;00m \u001b[38;5;167;01mValueError\u001b[39;00m(\u001b[38;5;124m\"\u001b[39m\u001b[38;5;124mRatios should sum to 1.0.\u001b[39m\u001b[38;5;124m\"\u001b[39m)\n\u001b[1;32m     88\u001b[0m \u001b[38;5;66;03m# Fetch child descriptors\u001b[39;00m\n\u001b[1;32m     89\u001b[0m child_descriptors \u001b[38;5;241m=\u001b[39m np\u001b[38;5;241m.\u001b[39marray(\n\u001b[1;32m     90\u001b[0m     [\n\u001b[0;32m---> 91\u001b[0m         \u001b[38;5;28;43mself\u001b[39;49m\u001b[38;5;241;43m.\u001b[39;49m\u001b[43mdata\u001b[49m\u001b[38;5;241;43m.\u001b[39;49m\u001b[43mget_adsorbate\u001b[49m\u001b[43m(\u001b[49m\u001b[43mspecies\u001b[49m\u001b[43m)\u001b[49m\n\u001b[1;32m     92\u001b[0m         \u001b[38;5;28;01mfor\u001b[39;00m species \u001b[38;5;129;01min\u001b[39;00m spec_ratios\u001b[38;5;241m.\u001b[39mkeys()\n\u001b[1;32m     93\u001b[0m     ]\n\u001b[1;32m     94\u001b[0m )\n\u001b[1;32m     96\u001b[0m \u001b[38;5;66;03m# Construct composite descriptor (from child descriptors)\u001b[39;00m\n\u001b[1;32m     97\u001b[0m \u001b[38;5;28;01mreturn\u001b[39;00m np\u001b[38;5;241m.\u001b[39msum(\n\u001b[1;32m     98\u001b[0m     child_descriptors\n\u001b[1;32m     99\u001b[0m     \u001b[38;5;241m*\u001b[39m np\u001b[38;5;241m.\u001b[39marray(\u001b[38;5;28mlist\u001b[39m(spec_ratios\u001b[38;5;241m.\u001b[39mvalues()))[:, np\u001b[38;5;241m.\u001b[39mnewaxis],\n\u001b[1;32m    100\u001b[0m     axis\u001b[38;5;241m=\u001b[39m\u001b[38;5;241m0\u001b[39m,\n\u001b[1;32m    101\u001b[0m )\n",
      "File \u001b[0;32m~/developer/scaling/examples/../scaling/data/eads.py:164\u001b[0m, in \u001b[0;36mEads.get_adsorbate\u001b[0;34m(self, name)\u001b[0m\n\u001b[1;32m    153\u001b[0m \u001b[38;5;250m\u001b[39m\u001b[38;5;124;03m\"\"\"\u001b[39;00m\n\u001b[1;32m    154\u001b[0m \u001b[38;5;124;03mGet the column for a given adsorbate name.\u001b[39;00m\n\u001b[1;32m    155\u001b[0m \n\u001b[0;32m   (...)\u001b[0m\n\u001b[1;32m    160\u001b[0m \u001b[38;5;124;03m    np.ndarray: An array containing the adsorbate data as floats.\u001b[39;00m\n\u001b[1;32m    161\u001b[0m \u001b[38;5;124;03m\"\"\"\u001b[39;00m\n\u001b[1;32m    163\u001b[0m \u001b[38;5;66;03m# Get the column index\u001b[39;00m\n\u001b[0;32m--> 164\u001b[0m col_index \u001b[38;5;241m=\u001b[39m \u001b[38;5;28;43mself\u001b[39;49m\u001b[38;5;241;43m.\u001b[39;49m\u001b[43mdata\u001b[49m\u001b[38;5;241;43m.\u001b[39;49m\u001b[43mcolumns\u001b[49m\u001b[38;5;241;43m.\u001b[39;49m\u001b[43mget_loc\u001b[49m\u001b[43m(\u001b[49m\u001b[43mname\u001b[49m\u001b[43m)\u001b[49m\n\u001b[1;32m    166\u001b[0m \u001b[38;5;66;03m# Extract the column data as a numpy array of floats\u001b[39;00m\n\u001b[1;32m    167\u001b[0m \u001b[38;5;28;01mreturn\u001b[39;00m \u001b[38;5;28mself\u001b[39m\u001b[38;5;241m.\u001b[39mdata\u001b[38;5;241m.\u001b[39miloc[:, col_index]\u001b[38;5;241m.\u001b[39mvalues\n",
      "File \u001b[0;32m~/developer/scaling/venv/lib/python3.12/site-packages/pandas/core/indexes/base.py:3812\u001b[0m, in \u001b[0;36mIndex.get_loc\u001b[0;34m(self, key)\u001b[0m\n\u001b[1;32m   3807\u001b[0m     \u001b[38;5;28;01mif\u001b[39;00m \u001b[38;5;28misinstance\u001b[39m(casted_key, \u001b[38;5;28mslice\u001b[39m) \u001b[38;5;129;01mor\u001b[39;00m (\n\u001b[1;32m   3808\u001b[0m         \u001b[38;5;28misinstance\u001b[39m(casted_key, abc\u001b[38;5;241m.\u001b[39mIterable)\n\u001b[1;32m   3809\u001b[0m         \u001b[38;5;129;01mand\u001b[39;00m \u001b[38;5;28many\u001b[39m(\u001b[38;5;28misinstance\u001b[39m(x, \u001b[38;5;28mslice\u001b[39m) \u001b[38;5;28;01mfor\u001b[39;00m x \u001b[38;5;129;01min\u001b[39;00m casted_key)\n\u001b[1;32m   3810\u001b[0m     ):\n\u001b[1;32m   3811\u001b[0m         \u001b[38;5;28;01mraise\u001b[39;00m InvalidIndexError(key)\n\u001b[0;32m-> 3812\u001b[0m     \u001b[38;5;28;01mraise\u001b[39;00m \u001b[38;5;167;01mKeyError\u001b[39;00m(key) \u001b[38;5;28;01mfrom\u001b[39;00m \u001b[38;5;21;01merr\u001b[39;00m\n\u001b[1;32m   3813\u001b[0m \u001b[38;5;28;01mexcept\u001b[39;00m \u001b[38;5;167;01mTypeError\u001b[39;00m:\n\u001b[1;32m   3814\u001b[0m     \u001b[38;5;66;03m# If we have a listlike key, _check_indexing_error will raise\u001b[39;00m\n\u001b[1;32m   3815\u001b[0m     \u001b[38;5;66;03m#  InvalidIndexError. Otherwise we fall through and re-raise\u001b[39;00m\n\u001b[1;32m   3816\u001b[0m     \u001b[38;5;66;03m#  the TypeError.\u001b[39;00m\n\u001b[1;32m   3817\u001b[0m     \u001b[38;5;28mself\u001b[39m\u001b[38;5;241m.\u001b[39m_check_indexing_error(key)\n",
      "\u001b[0;31mKeyError\u001b[0m: '*CO'"
     ]
    }
   ],
   "source": [
    "### 2.1 Build adsorption energy scaling relation (EadsRelation)\n",
    "\n",
    "builder = Builder(data=eads)\n",
    "\n",
    "eadsrelation = builder.build_traditional(eads.groups)\n"
   ]
  },
  {
   "cell_type": "code",
   "execution_count": null,
   "metadata": {},
   "outputs": [],
   "source": [
    "### 2.2 Convert EadsRelation to reaction energy Relation (DeltaERelation)"
   ]
  }
 ],
 "metadata": {
  "kernelspec": {
   "display_name": "venv",
   "language": "python",
   "name": "python3"
  },
  "language_info": {
   "codemirror_mode": {
    "name": "ipython",
    "version": 3
   },
   "file_extension": ".py",
   "mimetype": "text/x-python",
   "name": "python",
   "nbconvert_exporter": "python",
   "pygments_lexer": "ipython3",
   "version": "3.12.2"
  }
 },
 "nbformat": 4,
 "nbformat_minor": 2
}
