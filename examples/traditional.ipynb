{
 "cells": [
  {
   "cell_type": "markdown",
   "metadata": {},
   "source": [
    "### Example Usage: Build Scaling Relation with the Traditional Method\n",
    "TODO: format of this is very messy"
   ]
  },
  {
   "cell_type": "markdown",
   "metadata": {},
   "source": [
    "#### Workflow\n",
    "\n",
    "##### Stage One: Preparation\n",
    "\n",
    "1.1 Prepare Adsorption Energy Data\n",
    "\n",
    "1.2 Decide (Two) Descriptors and Group Members\n",
    "\n",
    "1.3 Provide Reaction and Free-Species Energies\n",
    "\n",
    "##### Stage Two: Build\n",
    "\n",
    "2. Run the Relation Builder (and Check Metrics)\n",
    "\n",
    "##### Stage Three: Analysis (Visualization)\n",
    "\n",
    "3. Visualize Results with Volcano Plots and More"
   ]
  },
  {
   "cell_type": "markdown",
   "metadata": {},
   "source": [
    "## Stage One: Preparation\n"
   ]
  },
  {
   "cell_type": "markdown",
   "metadata": {},
   "source": [
    "### 1.1 Adsorption Energy\n",
    "\n",
    "Expect adsorption energy data as `pandas.DataFrame`,\n",
    "and you could easily generate one from a local `csv` file,\n",
    "where the row header should be adsorbate names, \n",
    "and the column header being sample names, like the following:\n",
    "```sql\n",
    "+-----------+------+------+-----+-------+------+------+\n",
    "|           | *CO2 |*COOH | ... |*OCH3  | *O   | *OH  |\n",
    "+-----------+------+------+-----+-------+------+------+\n",
    "| Cu@g-C3N4 | 0.89 | 4.37 | ... | 3.98  | -1.73| 0.17 |\n",
    "| Ni@C2N    |-4.57 |-4.95 | ... |-0.93  | -2.81|-3.21 |\n",
    "| ...       | ...  | ...  | ... | ...   | ...  | ...  |\n",
    "| Pt@SiO2   |-2.36 | 3.69 | ... | 3.12  | 0.29 | 4.84 |\n",
    "| Au@Al2O3  | 2.15 |-2.35 | ... | 1.36  | 1.07 | 4.56 |\n",
    "+-----------+------+------+-----+-------+------+------+\n",
    "\n",
    "```"
   ]
  },
  {
   "cell_type": "code",
   "execution_count": null,
   "metadata": {},
   "outputs": [],
   "source": [
    "import sys\n",
    "sys.path.append('..')  # TODO: need to fix this\n",
    "\n",
    "# Imports\n",
    "from scaling.data import Eads, Reaction\n",
    "from scaling.relation import Builder, Descriptors\n",
    "from scaling.relation.analysis import AdsorbToDeltaE"
   ]
  },
  {
   "cell_type": "code",
   "execution_count": null,
   "metadata": {},
   "outputs": [],
   "source": [
    "# Initialize Eads from csv file\n",
    "eads = Eads.from_csv(\"g-C3N4.csv\")"
   ]
  },
  {
   "cell_type": "markdown",
   "metadata": {},
   "source": [
    "### 1.2: Decide Descriptors and Group Members\n",
    "\n",
    "As of the traditional method, you would need to nominate\n",
    "two descriptors and their own group members, for example\n",
    "the following example for CO<sub>2</sub> to CH<sub>4</sub> reduction reaction:\n",
    "\n",
    "```python\n",
    "groups = {\n",
    "    \"*CO\": [\"*COOH\", \"*CHO\", \"*CH2O\"],  # C-centered group\n",
    "    \"*OH\": [\"*OCH3\", \"*O\"]              # O-Centered group\n",
    "}\n",
    "```"
   ]
  },
  {
   "cell_type": "code",
   "execution_count": null,
   "metadata": {},
   "outputs": [],
   "source": [
    "# Define descriptors\n",
    "groups = {\n",
    "    \"*CO\": [\"*COOH\", \"*CHO\", \"*CH2O\"],  # C-centered group\n",
    "    \"*OH\": [\"*OCH3\", \"*O\"]              # O-Centered group\n",
    "}\n",
    "\n",
    "descriptors = Descriptors(groups)"
   ]
  },
  {
   "cell_type": "markdown",
   "metadata": {},
   "source": [
    "### 1.3: Define Reaction and Free-Species Energies\n",
    "\n",
    "To convert an adsorption energy scaling Relation (`EadsRelation`) to a\n",
    "reaction energy Relation (`DeltaERelation`), the reaction pathway\n",
    "and species energies are necessary.\n",
    "\n",
    "The `Reaction` class provides a `from_str` method to generate a Reaction\n",
    "from a string, which should take the following form:\n",
    "```\n",
    "*CO2 + H+ + e- -> *COOH\n",
    "*COOH + H+ + e- -> *CO + H2O_l\n",
    "```\n",
    "\n",
    "Add an energy dict is also needed:\n",
    "```\n",
    "energy_dict = {\n",
    "    \"CO2\": (X, Y),\n",
    "    \"COOH\": (X, Y),\n",
    "    \"CO\": (X, Y),\n",
    "    \"H+\": (X, Y),\n",
    "    \"e-\": (0, 0),\n",
    "    \"H2O_l\": (X, Y),\n",
    "}\n",
    "```\n"
   ]
  },
  {
   "cell_type": "code",
   "execution_count": null,
   "metadata": {},
   "outputs": [],
   "source": [
    "reaction_str = \"\"\"\n",
    "*CO2 + H++e- -> *COOH\n",
    "*COOH + H++e- -> *CO + H2O_l\n",
    "\"\"\"\n",
    "\n",
    "# TODO: use proper energy and correction\n",
    "energy_dict = {\n",
    "    \"CO2\": (0, 0),\n",
    "    \"COOH\": (0, 0),\n",
    "    \"CO\": (0, 0),\n",
    "    \"H++e-\": (0, 0),\n",
    "    \"H2O_l\": (0, 0),\n",
    "}\n",
    "\n",
    "reaction = Reaction.from_str(reaction_str, energy_dict)"
   ]
  },
  {
   "cell_type": "markdown",
   "metadata": {},
   "source": [
    "## Stage Two: Build"
   ]
  },
  {
   "cell_type": "code",
   "execution_count": null,
   "metadata": {},
   "outputs": [],
   "source": [
    "### 2.1 Build adsorption energy scaling relation (EadsRelation)\n",
    "builder = Builder(data=eads)\n",
    "\n",
    "eads_relation = builder.build_traditional(descriptors)\n",
    "\n",
    "# (Optional but Recommended) Check metrics\n",
    "print(\"Species    R2 Score\")\n",
    "for species, score in eads_relation.metrics.items():\n",
    "    print(f\"{species:<10} {score:.4f}\")"
   ]
  },
  {
   "cell_type": "code",
   "execution_count": null,
   "metadata": {},
   "outputs": [],
   "source": [
    "### 2.2 Convert EadsRelation to reaction energy Relation (DeltaERelation)s\n",
    "deltae_relation = AdsorbToDeltaE(eads_relation, reaction)"
   ]
  },
  {
   "cell_type": "code",
   "execution_count": null,
   "metadata": {},
   "outputs": [],
   "source": []
  }
 ],
 "metadata": {
  "kernelspec": {
   "display_name": "venv",
   "language": "python",
   "name": "python3"
  },
  "language_info": {
   "codemirror_mode": {
    "name": "ipython",
    "version": 3
   },
   "file_extension": ".py",
   "mimetype": "text/x-python",
   "name": "python",
   "nbconvert_exporter": "python",
   "pygments_lexer": "ipython3",
   "version": "3.12.2"
  }
 },
 "nbformat": 4,
 "nbformat_minor": 2
}
