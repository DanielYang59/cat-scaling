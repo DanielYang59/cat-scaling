{
 "cells": [
  {
   "cell_type": "markdown",
   "metadata": {},
   "source": [
    "#### Example Usage: Build Scaling Relation with the Traditional Method\n",
    "\n",
    "##### Workflow\n",
    "\n",
    "1. Prepare Adsorption Energy Data\n",
    "\n",
    "2. Decide (Two) Descriptors and Group Member\n",
    "\n",
    "3. Run the Relation Builder (and Check Metrics)\n",
    "\n",
    "4. Visualize Results with Volcano Plots and More\n"
   ]
  },
  {
   "cell_type": "code",
   "execution_count": null,
   "metadata": {},
   "outputs": [],
   "source": []
  }
 ],
 "metadata": {
  "kernelspec": {
   "display_name": "venv",
   "language": "python",
   "name": "python3"
  },
  "language_info": {
   "name": "python",
   "version": "3.12.2"
  }
 },
 "nbformat": 4,
 "nbformat_minor": 2
}
