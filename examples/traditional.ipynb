{
 "cells": [
  {
   "cell_type": "markdown",
   "metadata": {},
   "source": [
    "### Example Usage: Build Scaling Relation with the Traditional Method\n",
    "TODO: format of this is messy"
   ]
  },
  {
   "cell_type": "markdown",
   "metadata": {},
   "source": [
    "#### Workflow\n",
    "\n",
    "##### Stage One: Preparation\n",
    "\n",
    "1.1 Prepare Adsorption Energy Data\n",
    "\n",
    "1.2 Decide (Two) Descriptors and Group Members\n",
    "\n",
    "1.3 Provide Reaction and Free-Species Energies\n",
    "\n",
    "##### Stage Two: Build\n",
    "\n",
    "2. Run the Relation Builder (and Check Metrics)\n",
    "\n",
    "##### Stage Three: Analysis (Visualization)\n",
    "\n",
    "3. Visualize Results with Volcano Plots and More"
   ]
  },
  {
   "cell_type": "markdown",
   "metadata": {},
   "source": [
    "## Stage One: Preparation\n"
   ]
  },
  {
   "cell_type": "markdown",
   "metadata": {},
   "source": [
    "### 1.1 Adsorption Energy\n",
    "\n",
    "Expect adsorption energy data as `pandas.DataFrame`,\n",
    "and you could easily generate one from a local `csv` file,\n",
    "where the row header should be adsorbate names, \n",
    "and the column header being sample names, like the following:\n",
    "```sql\n",
    "+-----------+------+------+-----+-------+------+------+\n",
    "|           | *CO2 |*COOH | ... |*OCH3  | *O   | *OH  |\n",
    "+-----------+------+------+-----+-------+------+------+\n",
    "| Cu@g-C3N4 | 0.89 | 4.37 | ... | 3.98  | -1.73| 0.17 |\n",
    "| Ni@C2N    |-4.57 |-4.95 | ... |-0.93  | -2.81|-3.21 |\n",
    "| ...       | ...  | ...  | ... | ...   | ...  | ...  |\n",
    "| Pt@SiO2   |-2.36 | 3.69 | ... | 3.12  | 0.29 | 4.84 |\n",
    "| Au@Al2O3  | 2.15 |-2.35 | ... | 1.36  | 1.07 | 4.56 |\n",
    "+-----------+------+------+-----+-------+------+------+\n",
    "\n",
    "```"
   ]
  },
  {
   "cell_type": "code",
   "execution_count": 11,
   "metadata": {},
   "outputs": [],
   "source": [
    "# TODO: need to fix this\n",
    "import sys\n",
    "sys.path.append('..')"
   ]
  },
  {
   "cell_type": "code",
   "execution_count": 14,
   "metadata": {},
   "outputs": [],
   "source": [
    "# Initialize Eads from csv file\n",
    "\n",
    "from scaling.data import Eads\n",
    "\n",
    "eads = Eads.from_csv(\"g-C3N4.csv\")"
   ]
  },
  {
   "cell_type": "markdown",
   "metadata": {},
   "source": [
    "#### Step Two: Decide Descriptors and Group Members\n",
    "\n",
    "As of the traditional method, you would need to nominate\n",
    "two descriptors and their own group members, for example\n",
    "the following example for CO<sub>2</sub> to CH<sub>4</sub> reduction reaction:\n",
    "\n",
    "```python\n",
    "groups = {\n",
    "    \"*CO\": [\"*COOH\", \"*CHO\", \"*CH2O\"],  # C-centered group\n",
    "    \"*OH\": [\"*OCH3\", \"*O\"]              # O-Centered group\n",
    "}\n",
    "```"
   ]
  },
  {
   "cell_type": "code",
   "execution_count": 13,
   "metadata": {},
   "outputs": [],
   "source": [
    "# Set \"groups\"\n",
    "\n",
    "eads.groups = {\n",
    "    \"*CO\": [\"*COOH\", \"*CHO\", \"*CH2O\"],  # C-centered group\n",
    "    \"*OH\": [\"*OCH3\", \"*O\"]              # O-Centered group\n",
    "}"
   ]
  },
  {
   "cell_type": "markdown",
   "metadata": {},
   "source": [
    "#### Step Three: Define Reactions and Free-Species Energies"
   ]
  },
  {
   "cell_type": "code",
   "execution_count": null,
   "metadata": {},
   "outputs": [],
   "source": []
  }
 ],
 "metadata": {
  "kernelspec": {
   "display_name": "venv",
   "language": "python",
   "name": "python3"
  },
  "language_info": {
   "codemirror_mode": {
    "name": "ipython",
    "version": 3
   },
   "file_extension": ".py",
   "mimetype": "text/x-python",
   "name": "python",
   "nbconvert_exporter": "python",
   "pygments_lexer": "ipython3",
   "version": "3.12.2"
  }
 },
 "nbformat": 4,
 "nbformat_minor": 2
}
